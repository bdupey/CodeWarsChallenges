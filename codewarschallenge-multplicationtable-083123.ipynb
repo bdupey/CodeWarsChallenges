{
 "cells": [
  {
   "cell_type": "markdown",
   "id": "92007921",
   "metadata": {
    "papermill": {
     "duration": 0.003176,
     "end_time": "2023-08-31T21:16:00.418347",
     "exception": false,
     "start_time": "2023-08-31T21:16:00.415171",
     "status": "completed"
    },
    "tags": []
   },
   "source": [
    "# Challenge \n",
    "\n",
    "Your task, is to create N×N multiplication table, of size provided in parameter.\n",
    "\n",
    "For example, when given size is 3:\n",
    "\n",
    "`1 2 3\n",
    "2 4 6\n",
    "3 6 9`\n",
    "\n",
    "For the given example, the return value should be:\n",
    "\n",
    "[[1,2,3],[2,4,6],[3,6,9]]"
   ]
  },
  {
   "cell_type": "code",
   "execution_count": 1,
   "id": "b94ffb10",
   "metadata": {
    "execution": {
     "iopub.execute_input": "2023-08-31T21:16:00.426054Z",
     "iopub.status.busy": "2023-08-31T21:16:00.425604Z",
     "iopub.status.idle": "2023-08-31T21:16:00.437839Z",
     "shell.execute_reply": "2023-08-31T21:16:00.436587Z"
    },
    "papermill": {
     "duration": 0.01929,
     "end_time": "2023-08-31T21:16:00.440428",
     "exception": false,
     "start_time": "2023-08-31T21:16:00.421138",
     "status": "completed"
    },
    "tags": []
   },
   "outputs": [],
   "source": [
    "def multiplication_table(size):\n",
    "    mult_tbl=[]\n",
    "    mult=[]\n",
    "    for i in range(1,size+1):\n",
    "        for j in range(1,size+1):\n",
    "            k=i*j\n",
    "            mult.append(k)\n",
    "        mult_tbl.append(mult)\n",
    "        mult=[]\n",
    "    return mult_tbl  "
   ]
  },
  {
   "cell_type": "code",
   "execution_count": 2,
   "id": "71d0d088",
   "metadata": {
    "execution": {
     "iopub.execute_input": "2023-08-31T21:16:00.447754Z",
     "iopub.status.busy": "2023-08-31T21:16:00.447412Z",
     "iopub.status.idle": "2023-08-31T21:16:00.451501Z",
     "shell.execute_reply": "2023-08-31T21:16:00.450834Z"
    },
    "papermill": {
     "duration": 0.010043,
     "end_time": "2023-08-31T21:16:00.453246",
     "exception": false,
     "start_time": "2023-08-31T21:16:00.443203",
     "status": "completed"
    },
    "tags": []
   },
   "outputs": [],
   "source": [
    "## I feel pretty good about this one. As always, there are more efficient solutions using one line. I'd like to get\n",
    "## better about writing for loops in a single line. That has always mystified me, so potentially something\n",
    "## to learn about in future challenges. "
   ]
  }
 ],
 "kernelspec": {
  "display_name": "Python 3",
  "language": "python",
  "name": "python3"
 },
 "language_info": {
  "codemirror_mode": {
   "name": "ipython",
   "version": 3
  },
  "file_extension": ".py",
  "mimetype": "text/x-python",
  "name": "python",
  "nbconvert_exporter": "python",
  "pygments_lexer": "ipython3",
  "version": "3.6.4"
 },
 "metadata": {
  "kernelspec": {
   "display_name": "Python 3",
   "language": "python",
   "name": "python3"
  },
  "language_info": {
   "codemirror_mode": {
    "name": "ipython",
    "version": 3
   },
   "file_extension": ".py",
   "mimetype": "text/x-python",
   "name": "python",
   "nbconvert_exporter": "python",
   "pygments_lexer": "ipython3",
   "version": "3.10.12"
  },
  "papermill": {
   "default_parameters": {},
   "duration": 3.238055,
   "end_time": "2023-08-31T21:16:00.774737",
   "environment_variables": {},
   "exception": null,
   "input_path": "__notebook__.ipynb",
   "output_path": "__notebook__.ipynb",
   "parameters": {},
   "start_time": "2023-08-31T21:15:57.536682",
   "version": "2.4.0"
  }
 },
 "nbformat": 4,
 "nbformat_minor": 5
}
