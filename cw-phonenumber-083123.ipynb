{
 "cells": [
  {
   "cell_type": "markdown",
   "id": "c7bfe14b",
   "metadata": {
    "papermill": {
     "duration": 0.004566,
     "end_time": "2023-08-31T14:35:20.577722",
     "exception": false,
     "start_time": "2023-08-31T14:35:20.573156",
     "status": "completed"
    },
    "tags": []
   },
   "source": [
    "## Instructions\n",
    "\n",
    "Write a function that accepts an array of 10 integers (between 0 and 9), that returns a string of those numbers in the form of a phone number.\n",
    "\n",
    "Example:\n",
    "\n",
    "`create_phone_number([1, 2, 3, 4, 5, 6, 7, 8, 9, 0]) # => returns \"(123) 456-7890`\n",
    "\n",
    "The returned format must be correct in order to complete this challenge.\n",
    "\n",
    "Don't forget the space after the closing parentheses!\n"
   ]
  },
  {
   "cell_type": "code",
   "execution_count": 1,
   "id": "3c0ccf0b",
   "metadata": {
    "execution": {
     "iopub.execute_input": "2023-08-31T14:35:20.587446Z",
     "iopub.status.busy": "2023-08-31T14:35:20.586846Z",
     "iopub.status.idle": "2023-08-31T14:35:20.607925Z",
     "shell.execute_reply": "2023-08-31T14:35:20.606760Z"
    },
    "papermill": {
     "duration": 0.029433,
     "end_time": "2023-08-31T14:35:20.610857",
     "exception": false,
     "start_time": "2023-08-31T14:35:20.581424",
     "status": "completed"
    },
    "tags": []
   },
   "outputs": [
    {
     "data": {
      "text/plain": [
       "'(123) 456-7890'"
      ]
     },
     "execution_count": 1,
     "metadata": {},
     "output_type": "execute_result"
    }
   ],
   "source": [
    "def create_phone_number(n):\n",
    "    pn=\"\"\n",
    "    for i in n:\n",
    "        pn+=str(i)\n",
    "    ph_num=\"(\"+pn[:3]+\") \"+pn[3:6]+\"-\"+pn[6:]\n",
    "    return ph_num\n",
    "        \n",
    "create_phone_number([1, 2, 3, 4, 5, 6, 7, 8, 9, 0])        \n",
    "\n",
    "        "
   ]
  }
 ],
 "kernelspec": {
  "display_name": "Python 3",
  "language": "python",
  "name": "python3"
 },
 "language_info": {
  "codemirror_mode": {
   "name": "ipython",
   "version": 3
  },
  "file_extension": ".py",
  "mimetype": "text/x-python",
  "name": "python",
  "nbconvert_exporter": "python",
  "pygments_lexer": "ipython3",
  "version": "3.6.4"
 },
 "metadata": {
  "kernelspec": {
   "display_name": "Python 3",
   "language": "python",
   "name": "python3"
  },
  "language_info": {
   "codemirror_mode": {
    "name": "ipython",
    "version": 3
   },
   "file_extension": ".py",
   "mimetype": "text/x-python",
   "name": "python",
   "nbconvert_exporter": "python",
   "pygments_lexer": "ipython3",
   "version": "3.10.12"
  },
  "papermill": {
   "default_parameters": {},
   "duration": 13.805783,
   "end_time": "2023-08-31T14:35:21.840336",
   "environment_variables": {},
   "exception": null,
   "input_path": "__notebook__.ipynb",
   "output_path": "__notebook__.ipynb",
   "parameters": {},
   "start_time": "2023-08-31T14:35:08.034553",
   "version": "2.4.0"
  }
 },
 "nbformat": 4,
 "nbformat_minor": 5
}
