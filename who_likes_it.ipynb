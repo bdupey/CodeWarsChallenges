{
 "cells": [
  {
   "cell_type": "markdown",
   "metadata": {},
   "source": [
    "## Coding Challenge"
   ]
  },
  {
   "cell_type": "markdown",
   "metadata": {},
   "source": [
    "You probably know the \"like\" system from Facebook and other pages. People can \"like\" blog posts, pictures or other items. We want to create the text that should be displayed next to such an item.\n",
    "\n",
    "Implement the function which takes an array containing the names of people that like an item. It must return the display text as shown in the examples:\n",
    "\n",
    "[]                                -->  \"no one likes this\"\n",
    "[\"Peter\"]                         -->  \"Peter likes this\"\n",
    "[\"Jacob\", \"Alex\"]                 -->  \"Jacob and Alex like this\"\n",
    "[\"Max\", \"John\", \"Mark\"]           -->  \"Max, John and Mark like this\"\n",
    "[\"Alex\", \"Jacob\", \"Mark\", \"Max\"]  -->  \"Alex, Jacob and 2 others like this\"\n",
    "Note: For 4 or more names, the number in \"and 2 others\" simply increases.\n"
   ]
  },
  {
   "cell_type": "code",
   "execution_count": 25,
   "metadata": {},
   "outputs": [
    {
     "data": {
      "text/plain": [
       "'ben, ariel and 2 others like this'"
      ]
     },
     "execution_count": 25,
     "metadata": {},
     "output_type": "execute_result"
    }
   ],
   "source": [
    "def likes(names):\n",
    "\n",
    "    nameString=\"\"\n",
    "\n",
    "    if len(names) == 0:\n",
    "        return \"no one likes this\"\n",
    "    \n",
    "    if len(names) == 1:\n",
    "        for name in names:\n",
    "            name+=\" likes this\"\n",
    "            nameString+=name\n",
    "        return nameString\n",
    "\n",
    "    if len(names) == 2:\n",
    "        for name in names:\n",
    "            if names.index(name)!=1:\n",
    "                name+=\" and \"\n",
    "                nameString+=name\n",
    "            elif names.index(name)==1:\n",
    "                name+=\" like this\"\n",
    "                nameString+=name\n",
    "        return nameString\n",
    "\n",
    "    if len(names)==3:\n",
    "        for name in names:\n",
    "            if names.index(name)==0:\n",
    "                x=name+\", \"\n",
    "                nameString+=x\n",
    "                print(nameString)\n",
    "            if names.index(name)==1:\n",
    "                x=name+\" and \"\n",
    "                nameString+=x\n",
    "            if names.index(name)==2:\n",
    "                x=name+\" like this\"\n",
    "                nameString+=x\n",
    "        return nameString\n",
    "\n",
    "    if len(names)>3:\n",
    "        x=len(names)\n",
    "        others=x-2\n",
    "        others=\"and \" + str(others) + \" others like this\"\n",
    "        for name in names:\n",
    "            if names.index(name)==0:\n",
    "                x=name+\", \"\n",
    "                nameString+=x\n",
    "            if names.index(name)==1:\n",
    "                x=name+\" \"\n",
    "                nameString+=x\n",
    "                nameString+=others\n",
    "                return nameString\n",
    "\n",
    "likes(['ben','ariel','ashton', 'maria'])"
   ]
  }
 ],
 "metadata": {
  "kernelspec": {
   "display_name": "Python 3",
   "language": "python",
   "name": "python3"
  },
  "language_info": {
   "codemirror_mode": {
    "name": "ipython",
    "version": 3
   },
   "file_extension": ".py",
   "mimetype": "text/x-python",
   "name": "python",
   "nbconvert_exporter": "python",
   "pygments_lexer": "ipython3",
   "version": "3.11.4"
  },
  "orig_nbformat": 4
 },
 "nbformat": 4,
 "nbformat_minor": 2
}
